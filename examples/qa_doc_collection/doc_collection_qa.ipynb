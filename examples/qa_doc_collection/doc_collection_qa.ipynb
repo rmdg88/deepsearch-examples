{
    "cells": [
        {
            "cell_type": "markdown",
            "id": "99f717ef-4cba-4300-b258-0b1c248cb873",
            "metadata": {},
            "source": [
                "# RAG and Semantic Retrieval on a Document Collection\n",
                "\n",
                "Deep Search allows users to interact with the documents using conversational AI, i.e. you interact with a virtual assistant which answer your questions using the information in the corpus.\n",
                "\n",
                "In this example we demonstrate how achive the same interaction programmatically.\n",
                "\n",
                "### Access required\n",
                "\n",
                "The content of this notebook requires access to Deep Search capabilities which are not\n",
                "available on the public access system.\n",
                "\n",
                "[Contact us](https://ds4sd.github.io) if you are interested in exploring\n",
                "these Deep Search capabilities.\n",
                "\n",
                "\n",
                "### GenAI Integration required\n",
                "\n",
                "When interacting with the virtual assistant, Deep Search requires a connection to a Generative AI API. Currently, we support connections to [watsonx.ai](https://www.ibm.com/products/watsonx-ai) or the IBM-internal GenAI platform BAM.\n",
                "\n",
                "Deep Search allows custom GenAI configurations for each project.\n",
                "In the following example you will require to work in a project which has such GenAI capabilities activated."
            ]
        },
        {
            "cell_type": "markdown",
            "id": "256aef50-71a1-4278-9b22-17cb99a6566e",
            "metadata": {},
            "source": [
                "### Set notebook parameters\n"
            ]
        },
        {
            "cell_type": "code",
            "execution_count": 4,
            "id": "5b244bdd-1b52-41ff-b63e-9a203570d210",
            "metadata": {},
            "outputs": [],
            "source": [
                "from dsnotebooks.settings import CollQANotebookSettings\n",
                "\n",
                "# notebooks settings auto-loaded from .env / env vars\n",
                "notebook_settings = CollQANotebookSettings()\n",
                "\n",
                "PROFILE_NAME = notebook_settings.profile      # the profile to use\n",
                "PROJ_KEY = notebook_settings.proj_key         # the project to use\n",
                "INDEX_KEY = notebook_settings.sem_on_idx_key  # the collection to use\n",
                "\n",
                "SKIP_INGESTED_DOCS = notebook_settings.skip_ingested_docs  # whether to skip any already semantically ingested docs\n",
                "\n",
                "RETR_K = notebook_settings.retr_k             # the number of search results to retrieve\n",
                "TEXT_WEIGHT = notebook_settings.text_weight   # the weight of lexical search (0.0: semantic-only, 1.0: lexical-only, anything in between: hybrid search)\n",
                "RERANK = notebook_settings.rerank             # whether to rerank the search results\n",
                "RAISE = notebook_settings.raise_on_sem_err    # whether semantic operation errors should raise an exception or be reflected in response fields"
            ]
        },
        {
            "cell_type": "markdown",
            "id": "a5269060-bb5f-4fe3-9b64-547202db6714",
            "metadata": {},
            "source": [
                "### Import example dependencies"
            ]
        },
        {
            "cell_type": "code",
            "execution_count": 5,
            "id": "5d236ea0-db1c-4171-8e11-cdd0bad69d66",
            "metadata": {},
            "outputs": [],
            "source": [
                "# Import standard dependenices\n",
                "import pandas as pd\n",
                "import rich\n",
                "\n",
                "# IPython utilities\n",
                "from IPython.display import display, Markdown\n",
                "\n",
                "# Import the deepsearch-toolkit\n",
                "from deepsearch.cps.client.api import CpsApi\n",
                "from deepsearch.cps.client.components.elastic import ElasticProjectDataCollectionSource\n",
                "from deepsearch.cps.queries import DataQuery, RAGQuery, SemanticQuery\n",
                "from deepsearch.cps.queries.results import RAGResult, SearchResult, SearchResultItem\n"
            ]
        },
        {
            "cell_type": "markdown",
            "id": "293c249b-6018-46f2-b4d8-795f994d4729",
            "metadata": {},
            "source": [
                "### Connect to Deep Search"
            ]
        },
        {
            "cell_type": "code",
            "execution_count": 6,
            "id": "9c108432-a285-4c7b-a996-008ac3ff3d7a",
            "metadata": {},
            "outputs": [],
            "source": [
                "api = CpsApi.from_env(profile_name=PROFILE_NAME)"
            ]
        },
        {
            "cell_type": "markdown",
            "metadata": {},
            "source": [
                "### Utils"
            ]
        },
        {
            "cell_type": "code",
            "execution_count": 7,
            "metadata": {},
            "outputs": [],
            "source": [
                "def render_provenance_url(\n",
                "        api: CpsApi,\n",
                "        coords: ElasticProjectDataCollectionSource,\n",
                "        retr_item: SearchResultItem,\n",
                "):\n",
                "    ## compute URL to the document in the Deep Search UI\n",
                "    item_index = int(retr_item.main_path[retr_item.main_path.rfind(\".\")+1:])\n",
                "    doc_url = api.documents.generate_url(\n",
                "        document_hash=retr_item.doc_hash,\n",
                "        data_source=coords,\n",
                "        item_index=item_index,\n",
                "    )\n",
                "    display(Markdown(f\"The provenance of the answer can be inspected on the [source document]({doc_url}).\"))"
            ]
        },
        {
            "cell_type": "markdown",
            "id": "38cde869-46d1-4833-8eb3-2381b5e5fb68",
            "metadata": {},
            "source": [
                "---"
            ]
        },
        {
            "cell_type": "markdown",
            "metadata": {},
            "source": [
                "Prepare the collection coordinates:"
            ]
        },
        {
            "cell_type": "code",
            "execution_count": 8,
            "metadata": {},
            "outputs": [],
            "source": [
                "coll_coords = ElasticProjectDataCollectionSource(\n",
                "    proj_key=PROJ_KEY,\n",
                "    index_key=INDEX_KEY,\n",
                ")"
            ]
        },
        {
            "cell_type": "markdown",
            "metadata": {},
            "source": [
                "We are using a small collection, so we can just list its documents to get an idea of its contents (for more details on querying, check the [Data Query Quick Start](https://github.com/DS4SD/deepsearch-examples/tree/main/examples/data_query_quick_start))."
            ]
        },
        {
            "cell_type": "code",
            "execution_count": 9,
            "id": "2b38875e-f39c-4dd5-9d42-3ffca5d0bdac",
            "metadata": {},
            "outputs": [
                {
                    "name": "stdout",
                    "output_type": "stream",
                    "text": [
                        "Finished fetching all data. Total is 1 records.\n"
                    ]
                },
                {
                    "data": {
                        "text/html": [
                            "<div>\n",
                            "<style scoped>\n",
                            "    .dataframe tbody tr th:only-of-type {\n",
                            "        vertical-align: middle;\n",
                            "    }\n",
                            "\n",
                            "    .dataframe tbody tr th {\n",
                            "        vertical-align: top;\n",
                            "    }\n",
                            "\n",
                            "    .dataframe thead th {\n",
                            "        text-align: right;\n",
                            "    }\n",
                            "</style>\n",
                            "<table border=\"1\" class=\"dataframe\">\n",
                            "  <thead>\n",
                            "    <tr style=\"text-align: right;\">\n",
                            "      <th></th>\n",
                            "      <th>Filename</th>\n",
                            "      <th>DocHash</th>\n",
                            "    </tr>\n",
                            "  </thead>\n",
                            "  <tbody>\n",
                            "    <tr>\n",
                            "      <th>0</th>\n",
                            "      <td>2206-01062.pdf</td>\n",
                            "      <td>5dfbd8c115a15fd3396b68409124cfee29fc8efac7b5c8...</td>\n",
                            "    </tr>\n",
                            "  </tbody>\n",
                            "</table>\n",
                            "</div>"
                        ],
                        "text/plain": [
                            "         Filename                                            DocHash\n",
                            "0  2206-01062.pdf  5dfbd8c115a15fd3396b68409124cfee29fc8efac7b5c8..."
                        ]
                    },
                    "metadata": {},
                    "output_type": "display_data"
                }
            ],
            "source": [
                "# Prepare the data query\n",
                "query = DataQuery(\n",
                "    search_query=\"*\",  # The search query to be executed\n",
                "    source=[           # Which fields of documents we want to fetch\n",
                "            \"file-info.document-hash\",\n",
                "            \"file-info.filename\",\n",
                "            # \"description.title\",\n",
                "    ],\n",
                "    coordinates=coll_coords,  # The data collection to be queries\n",
                ")\n",
                "\n",
                "# Query Deep Search for the documents matching the query\n",
                "results = []\n",
                "query_results = api.queries.run(query)\n",
                "for row in query_results.outputs[\"data_outputs\"]:\n",
                "        # Add row to results table\n",
                "        results.append({\n",
                "            \"Filename\": row[\"_source\"][\"file-info\"][\"filename\"],\n",
                "            \"DocHash\": row[\"_source\"][\"file-info\"][\"document-hash\"],\n",
                "            # \"Title\": row[\"_source\"].get(\"description\", {}).get(\"title\"),\n",
                "        })\n",
                "\n",
                "print(f'Finished fetching all data. Total is {len(results)} records.')\n",
                "\n",
                "# Visualize the table with all results\n",
                "df = pd.json_normalize(results)\n",
                "display(df)"
            ]
        },
        {
            "cell_type": "markdown",
            "metadata": {},
            "source": [
                "## Prepare source"
            ]
        },
        {
            "cell_type": "code",
            "execution_count": 10,
            "metadata": {},
            "outputs": [],
            "source": [
                "from deepsearch.cps.client.components.documents import PrivateDataCollectionSource, PrivateDataDocumentSource, PublicDataDocumentSource\n",
                "\n",
                "data_source = PrivateDataCollectionSource(\n",
                "    source=coll_coords,\n",
                ")"
            ]
        },
        {
            "cell_type": "markdown",
            "metadata": {},
            "source": [
                "## Ingestion"
            ]
        },
        {
            "cell_type": "markdown",
            "metadata": {},
            "source": [
                "In the cell below we show how to semantically index your collection (indexing of already indexed docs is controlled via param `skip_ingested_docs`):"
            ]
        },
        {
            "cell_type": "code",
            "execution_count": null,
            "metadata": {},
            "outputs": [],
            "source": [
                "# launch the ingestion of the collection for DocumentQA\n",
                "task = api.documents.semantic_ingest(\n",
                "    project=PROJ_KEY,\n",
                "    data_source=data_source,\n",
                "    skip_ingested_docs=SKIP_INGESTED_DOCS,\n",
                ")\n",
                "\n",
                "# wait for the ingestion task to finish\n",
                "api.tasks.wait_for(PROJ_KEY, task.task_id)"
            ]
        },
        {
            "cell_type": "markdown",
            "metadata": {},
            "source": [
                "## RAG"
            ]
        },
        {
            "cell_type": "code",
            "execution_count": 12,
            "id": "ee573e76-98ea-43ce-a2ba-a81f64b3adf3",
            "metadata": {},
            "outputs": [
                {
                    "data": {
                        "text/html": [
                            "<pre style=\"white-space:pre;overflow-x:auto;line-height:normal;font-family:Menlo,'DejaVu Sans Mono',consolas,'Courier New',monospace\"><span style=\"color: #800080; text-decoration-color: #800080; font-weight: bold\">RAGResult</span><span style=\"font-weight: bold\">(</span>\n",
                            "    <span style=\"color: #808000; text-decoration-color: #808000\">answers</span>=<span style=\"font-weight: bold\">[</span>\n",
                            "        <span style=\"color: #800080; text-decoration-color: #800080; font-weight: bold\">RAGAnswerItem</span><span style=\"font-weight: bold\">(</span>\n",
                            "            <span style=\"color: #808000; text-decoration-color: #808000\">answer</span>=<span style=\"color: #008000; text-decoration-color: #008000\">'The IBM lab in Zurich is in Rueschlikon, Switzerland.'</span>,\n",
                            "            <span style=\"color: #808000; text-decoration-color: #808000\">grounding</span>=<span style=\"color: #800080; text-decoration-color: #800080; font-weight: bold\">RAGGroundingInfo</span><span style=\"font-weight: bold\">(</span>\n",
                            "                <span style=\"color: #808000; text-decoration-color: #808000\">retr_items</span>=<span style=\"font-weight: bold\">[</span>\n",
                            "                    <span style=\"color: #800080; text-decoration-color: #800080; font-weight: bold\">SearchResultItem</span><span style=\"font-weight: bold\">(</span>\n",
                            "                        <span style=\"color: #808000; text-decoration-color: #808000\">doc_hash</span>=<span style=\"color: #008000; text-decoration-color: #008000\">'5dfbd8c115a15fd3396b68409124cfee29fc8efac7b5c846634ff924e635e0dc'</span>,\n",
                            "                        <span style=\"color: #808000; text-decoration-color: #808000\">chunk</span>=<span style=\"color: #008000; text-decoration-color: #008000\">'DocLayNet: A Large Human-Annotated Dataset for Document-Layout Analysis\\nMichele </span>\n",
                            "<span style=\"color: #008000; text-decoration-color: #008000\">Dolfi IBM Research Rueschlikon, Switzerland dol@zurich.ibm.com'</span>,\n",
                            "                        <span style=\"color: #808000; text-decoration-color: #808000\">main_path</span>=<span style=\"color: #008000; text-decoration-color: #008000\">'main-text.4'</span>,\n",
                            "                        <span style=\"color: #808000; text-decoration-color: #808000\">path_group</span>=<span style=\"font-weight: bold\">[</span><span style=\"color: #008000; text-decoration-color: #008000\">'main-text.1'</span>, <span style=\"color: #008000; text-decoration-color: #008000\">'main-text.4'</span><span style=\"font-weight: bold\">]</span>,\n",
                            "                        <span style=\"color: #808000; text-decoration-color: #808000\">source_is_text</span>=<span style=\"color: #00ff00; text-decoration-color: #00ff00; font-style: italic\">True</span>\n",
                            "                    <span style=\"font-weight: bold\">)</span>\n",
                            "                <span style=\"font-weight: bold\">]</span>,\n",
                            "                <span style=\"color: #808000; text-decoration-color: #808000\">gen_ctx_paths</span>=<span style=\"font-weight: bold\">[</span>\n",
                            "                    <span style=\"color: #008000; text-decoration-color: #008000\">'main-text.1'</span>,\n",
                            "                    <span style=\"color: #008000; text-decoration-color: #008000\">'main-text.2'</span>,\n",
                            "                    <span style=\"color: #008000; text-decoration-color: #008000\">'main-text.3'</span>,\n",
                            "                    <span style=\"color: #008000; text-decoration-color: #008000\">'main-text.4'</span>,\n",
                            "                    <span style=\"color: #008000; text-decoration-color: #008000\">'main-text.5'</span>,\n",
                            "                    <span style=\"color: #008000; text-decoration-color: #008000\">'main-text.6'</span>,\n",
                            "                    <span style=\"color: #008000; text-decoration-color: #008000\">'main-text.7'</span>,\n",
                            "                    <span style=\"color: #008000; text-decoration-color: #008000\">'main-text.8'</span>,\n",
                            "                    <span style=\"color: #008000; text-decoration-color: #008000\">'main-text.9'</span>,\n",
                            "                    <span style=\"color: #008000; text-decoration-color: #008000\">'main-text.10'</span>,\n",
                            "                    <span style=\"color: #008000; text-decoration-color: #008000\">'main-text.11'</span>,\n",
                            "                    <span style=\"color: #008000; text-decoration-color: #008000\">'main-text.12'</span>\n",
                            "                <span style=\"font-weight: bold\">]</span>\n",
                            "            <span style=\"font-weight: bold\">)</span>,\n",
                            "            <span style=\"color: #808000; text-decoration-color: #808000\">prompt</span>=<span style=\"color: #800080; text-decoration-color: #800080; font-style: italic\">None</span>\n",
                            "        <span style=\"font-weight: bold\">)</span>\n",
                            "    <span style=\"font-weight: bold\">]</span>,\n",
                            "    <span style=\"color: #808000; text-decoration-color: #808000\">search_result_items</span>=<span style=\"font-weight: bold\">[</span>\n",
                            "        <span style=\"color: #800080; text-decoration-color: #800080; font-weight: bold\">SearchResultItem</span><span style=\"font-weight: bold\">(</span>\n",
                            "            <span style=\"color: #808000; text-decoration-color: #808000\">doc_hash</span>=<span style=\"color: #008000; text-decoration-color: #008000\">'5dfbd8c115a15fd3396b68409124cfee29fc8efac7b5c846634ff924e635e0dc'</span>,\n",
                            "            <span style=\"color: #808000; text-decoration-color: #808000\">chunk</span>=<span style=\"color: #008000; text-decoration-color: #008000\">'DocLayNet: A Large Human-Annotated Dataset for Document-Layout Analysis\\nMichele Dolfi IBM </span>\n",
                            "<span style=\"color: #008000; text-decoration-color: #008000\">Research Rueschlikon, Switzerland dol@zurich.ibm.com'</span>,\n",
                            "            <span style=\"color: #808000; text-decoration-color: #808000\">main_path</span>=<span style=\"color: #008000; text-decoration-color: #008000\">'main-text.4'</span>,\n",
                            "            <span style=\"color: #808000; text-decoration-color: #808000\">path_group</span>=<span style=\"font-weight: bold\">[</span><span style=\"color: #008000; text-decoration-color: #008000\">'main-text.1'</span>, <span style=\"color: #008000; text-decoration-color: #008000\">'main-text.4'</span><span style=\"font-weight: bold\">]</span>,\n",
                            "            <span style=\"color: #808000; text-decoration-color: #808000\">source_is_text</span>=<span style=\"color: #00ff00; text-decoration-color: #00ff00; font-style: italic\">True</span>\n",
                            "        <span style=\"font-weight: bold\">)</span>\n",
                            "    <span style=\"font-weight: bold\">]</span>\n",
                            "<span style=\"font-weight: bold\">)</span>\n",
                            "</pre>\n"
                        ],
                        "text/plain": [
                            "\u001b[1;35mRAGResult\u001b[0m\u001b[1m(\u001b[0m\n",
                            "    \u001b[33manswers\u001b[0m=\u001b[1m[\u001b[0m\n",
                            "        \u001b[1;35mRAGAnswerItem\u001b[0m\u001b[1m(\u001b[0m\n",
                            "            \u001b[33manswer\u001b[0m=\u001b[32m'The IBM lab in Zurich is in Rueschlikon, Switzerland.'\u001b[0m,\n",
                            "            \u001b[33mgrounding\u001b[0m=\u001b[1;35mRAGGroundingInfo\u001b[0m\u001b[1m(\u001b[0m\n",
                            "                \u001b[33mretr_items\u001b[0m=\u001b[1m[\u001b[0m\n",
                            "                    \u001b[1;35mSearchResultItem\u001b[0m\u001b[1m(\u001b[0m\n",
                            "                        \u001b[33mdoc_hash\u001b[0m=\u001b[32m'5dfbd8c115a15fd3396b68409124cfee29fc8efac7b5c846634ff924e635e0dc'\u001b[0m,\n",
                            "                        \u001b[33mchunk\u001b[0m=\u001b[32m'DocLayNet: A Large Human-Annotated Dataset for Document-Layout Analysis\\nMichele \u001b[0m\n",
                            "\u001b[32mDolfi IBM Research Rueschlikon, Switzerland dol@zurich.ibm.com'\u001b[0m,\n",
                            "                        \u001b[33mmain_path\u001b[0m=\u001b[32m'main-text.4'\u001b[0m,\n",
                            "                        \u001b[33mpath_group\u001b[0m=\u001b[1m[\u001b[0m\u001b[32m'main-text.1'\u001b[0m, \u001b[32m'main-text.4'\u001b[0m\u001b[1m]\u001b[0m,\n",
                            "                        \u001b[33msource_is_text\u001b[0m=\u001b[3;92mTrue\u001b[0m\n",
                            "                    \u001b[1m)\u001b[0m\n",
                            "                \u001b[1m]\u001b[0m,\n",
                            "                \u001b[33mgen_ctx_paths\u001b[0m=\u001b[1m[\u001b[0m\n",
                            "                    \u001b[32m'main-text.1'\u001b[0m,\n",
                            "                    \u001b[32m'main-text.2'\u001b[0m,\n",
                            "                    \u001b[32m'main-text.3'\u001b[0m,\n",
                            "                    \u001b[32m'main-text.4'\u001b[0m,\n",
                            "                    \u001b[32m'main-text.5'\u001b[0m,\n",
                            "                    \u001b[32m'main-text.6'\u001b[0m,\n",
                            "                    \u001b[32m'main-text.7'\u001b[0m,\n",
                            "                    \u001b[32m'main-text.8'\u001b[0m,\n",
                            "                    \u001b[32m'main-text.9'\u001b[0m,\n",
                            "                    \u001b[32m'main-text.10'\u001b[0m,\n",
                            "                    \u001b[32m'main-text.11'\u001b[0m,\n",
                            "                    \u001b[32m'main-text.12'\u001b[0m\n",
                            "                \u001b[1m]\u001b[0m\n",
                            "            \u001b[1m)\u001b[0m,\n",
                            "            \u001b[33mprompt\u001b[0m=\u001b[3;35mNone\u001b[0m\n",
                            "        \u001b[1m)\u001b[0m\n",
                            "    \u001b[1m]\u001b[0m,\n",
                            "    \u001b[33msearch_result_items\u001b[0m=\u001b[1m[\u001b[0m\n",
                            "        \u001b[1;35mSearchResultItem\u001b[0m\u001b[1m(\u001b[0m\n",
                            "            \u001b[33mdoc_hash\u001b[0m=\u001b[32m'5dfbd8c115a15fd3396b68409124cfee29fc8efac7b5c846634ff924e635e0dc'\u001b[0m,\n",
                            "            \u001b[33mchunk\u001b[0m=\u001b[32m'DocLayNet: A Large Human-Annotated Dataset for Document-Layout Analysis\\nMichele Dolfi IBM \u001b[0m\n",
                            "\u001b[32mResearch Rueschlikon, Switzerland dol@zurich.ibm.com'\u001b[0m,\n",
                            "            \u001b[33mmain_path\u001b[0m=\u001b[32m'main-text.4'\u001b[0m,\n",
                            "            \u001b[33mpath_group\u001b[0m=\u001b[1m[\u001b[0m\u001b[32m'main-text.1'\u001b[0m, \u001b[32m'main-text.4'\u001b[0m\u001b[1m]\u001b[0m,\n",
                            "            \u001b[33msource_is_text\u001b[0m=\u001b[3;92mTrue\u001b[0m\n",
                            "        \u001b[1m)\u001b[0m\n",
                            "    \u001b[1m]\u001b[0m\n",
                            "\u001b[1m)\u001b[0m\n"
                        ]
                    },
                    "metadata": {},
                    "output_type": "display_data"
                },
                {
                    "name": "stdout",
                    "output_type": "stream",
                    "text": [
                        "overall=2.17  pipeline=1.531  encode=0.031  search=0.024  rerank=0.000  generate=1.259\n"
                    ]
                }
            ],
            "source": [
                "question = \"Where is the IBM lab in Zurich?\"\n",
                "\n",
                "# submit natural-language query on collection\n",
                "question_query = RAGQuery(\n",
                "    question=question,\n",
                "    project=PROJ_KEY,\n",
                "    data_source=data_source,\n",
                "\n",
                "    ## optional retrieval params\n",
                "    retr_k=RETR_K,\n",
                ")\n",
                "api_output = api.queries.run(question_query)\n",
                "rag_result = RAGResult.from_api_output(api_output, raise_on_error=RAISE)\n",
                "\n",
                "timing = f\"overall={api_output.timings.overall:.2f}  \"\n",
                "\n",
                "for k, v in api_output.timings.tasks[\"QA\"].details.items():\n",
                "    timing += f\"{k}={v:.3f}  \"\n",
                "\n",
                "rich.print(rag_result)\n",
                "\n",
                "print(f\"{timing.strip()}\")"
            ]
        },
        {
            "cell_type": "markdown",
            "metadata": {},
            "source": [
                "Additionally, we can generate a provenance URL to the document in the Deep Search UI:"
            ]
        },
        {
            "cell_type": "code",
            "execution_count": 13,
            "metadata": {},
            "outputs": [
                {
                    "data": {
                        "text/markdown": [
                            "The provenance of the answer can be inspected on the [source document](https://cps.foc-deepsearch.zurich.ibm.com/projects/6db72b8a4b537e1e6fa42f4403eb602a8ef0318e/library/private/2a052da60ce6f7d69837c6c2a492124b17f0a1d6?search=JTdCJTIycHJpdmF0ZUNvbGxlY3Rpb24lMjIlM0ElMjIyYTA1MmRhNjBjZTZmN2Q2OTgzN2M2YzJhNDkyMTI0YjE3ZjBhMWQ2JTIyJTJDJTIydHlwZSUyMiUzQSUyMkRvY3VtZW50JTIyJTJDJTIyZXhwcmVzc2lvbiUyMiUzQSUyMmZpbGUtaW5mby5kb2N1bWVudC1oYXNoJTNBJTIwJTVDJTIyNWRmYmQ4YzExNWExNWZkMzM5NmI2ODQwOTEyNGNmZWUyOWZjOGVmYWM3YjVjODQ2NjM0ZmY5MjRlNjM1ZTBkYyU1QyUyMiUyMiUyQyUyMmZpbHRlcnMlMjIlM0ElNUIlNUQlMkMlMjJzZWxlY3QlMjIlM0ElNUIlMjJfbmFtZSUyMiUyQyUyMmRlc2NyaXB0aW9uLmNvbGxlY3Rpb24lMjIlMkMlMjJwcm92JTIyJTJDJTIyZGVzY3JpcHRpb24udGl0bGUlMjIlMkMlMjJkZXNjcmlwdGlvbi5wdWJsaWNhdGlvbl9kYXRlJTIyJTJDJTIyZGVzY3JpcHRpb24udXJsX3JlZnMlMjIlNUQlMkMlMjJpdGVtSW5kZXglMjIlM0EwJTJDJTIycGFnZVNpemUlMjIlM0ExMCUyQyUyMnNlYXJjaEFmdGVySGlzdG9yeSUyMiUzQSU1QiU1RCUyQyUyMnZpZXdUeXBlJTIyJTNBJTIyc25pcHBldHMlMjIlMkMlMjJyZWNvcmRTZWxlY3Rpb24lMjIlM0ElN0IlMjJyZWNvcmQlMjIlM0ElN0IlMjJpZCUyMiUzQSUyMjVkZmJkOGMxMTVhMTVmZDMzOTZiNjg0MDkxMjRjZmVlMjlmYzhlZmFjN2I1Yzg0NjYzNGZmOTI0ZTYzNWUwZGMlMjIlN0QlMkMlMjJpdGVtSW5kZXglMjIlM0E0JTdEJTdE)."
                        ],
                        "text/plain": [
                            "<IPython.core.display.Markdown object>"
                        ]
                    },
                    "metadata": {},
                    "output_type": "display_data"
                }
            ],
            "source": [
                "render_provenance_url(api=api, coords=coll_coords, retr_item=rag_result.answers[0].grounding.retr_items[0])"
            ]
        },
        {
            "cell_type": "markdown",
            "metadata": {},
            "source": [
                "Let us try out a different question on our document corpus.\n",
                "Here we also include (commented out) various additional parameters the user can optionally set:\n",
                "- `retr_k`: number of items to retrieve\n",
                "- `text_weight`: weight of lexical search (`0.0`: fully semantic search, `1.0`: fully lexical search, anything in-between: hybrid search)\n",
                "- `rerank`: whether to rerank the retrieval results\n",
                "- `gen_ctx_extr_method` (Literal[\"window\", \"page\"], optional): method for gen context extraction from document; defaults to \"window\"\n",
                "- `gen_ctx_window_size` (int, optional): (relevant only if `gen_ctx_extr_method` is \"window\") max chars to use for extracted gen context (actual extraction quantized on doc item level); defaults to 5000\n",
                "- `gen_ctx_window_lead_weight` (float, optional): (relevant only if `gen_ctx_extr_method` is \"window\") weight of leading text for distributing remaining window size after extracting the `main_path`; defaults to 0.5 (centered around `main_path`)\n",
                "- `return_prompt` (bool, optional): whether to return the instantiated prompt; defaults to False\n",
                "- `gen_timeout` (float, optional): timeout for LLM generation; defaults to None, i.e. determined by system\n",
                "\n",
                "For more details refer to `deepsearch.cps.queries.RAGQuery`."
            ]
        },
        {
            "cell_type": "code",
            "execution_count": 14,
            "id": "89d95a17-1569-4c90-a983-8ca437b7569d",
            "metadata": {},
            "outputs": [
                {
                    "data": {
                        "text/html": [
                            "<pre style=\"white-space:pre;overflow-x:auto;line-height:normal;font-family:Menlo,'DejaVu Sans Mono',consolas,'Courier New',monospace\"><span style=\"color: #800080; text-decoration-color: #800080; font-weight: bold\">RAGResult</span><span style=\"font-weight: bold\">(</span>\n",
                            "    <span style=\"color: #808000; text-decoration-color: #808000\">answers</span>=<span style=\"font-weight: bold\">[</span>\n",
                            "        <span style=\"color: #800080; text-decoration-color: #800080; font-weight: bold\">RAGAnswerItem</span><span style=\"font-weight: bold\">(</span>\n",
                            "            <span style=\"color: #808000; text-decoration-color: #808000\">answer</span>=<span style=\"color: #008000; text-decoration-color: #008000\">\"The term 'machine learning' was introduced by Arthur Samuel in 1959 [Samuel1959].\"</span>,\n",
                            "            <span style=\"color: #808000; text-decoration-color: #808000\">grounding</span>=<span style=\"color: #800080; text-decoration-color: #800080; font-weight: bold\">RAGGroundingInfo</span><span style=\"font-weight: bold\">(</span>\n",
                            "                <span style=\"color: #808000; text-decoration-color: #808000\">retr_items</span>=<span style=\"font-weight: bold\">[</span>\n",
                            "                    <span style=\"color: #800080; text-decoration-color: #800080; font-weight: bold\">SearchResultItem</span><span style=\"font-weight: bold\">(</span>\n",
                            "                        <span style=\"color: #808000; text-decoration-color: #808000\">doc_hash</span>=<span style=\"color: #008000; text-decoration-color: #008000\">'5dfbd8c115a15fd3396b68409124cfee29fc8efac7b5c846634ff924e635e0dc'</span>,\n",
                            "                        <span style=\"color: #808000; text-decoration-color: #808000\">chunk</span>=<span style=\"color: #008000; text-decoration-color: #008000\">'KEYWORDS\\nPDF document conversion, layout segmentation, object-detection, data set, </span>\n",
                            "<span style=\"color: #008000; text-decoration-color: #008000\">Machine Learning'</span>,\n",
                            "                        <span style=\"color: #808000; text-decoration-color: #808000\">main_path</span>=<span style=\"color: #008000; text-decoration-color: #008000\">'main-text.17'</span>,\n",
                            "                        <span style=\"color: #808000; text-decoration-color: #808000\">path_group</span>=<span style=\"font-weight: bold\">[</span><span style=\"color: #008000; text-decoration-color: #008000\">'main-text.16'</span>, <span style=\"color: #008000; text-decoration-color: #008000\">'main-text.17'</span><span style=\"font-weight: bold\">]</span>,\n",
                            "                        <span style=\"color: #808000; text-decoration-color: #808000\">source_is_text</span>=<span style=\"color: #00ff00; text-decoration-color: #00ff00; font-style: italic\">True</span>\n",
                            "                    <span style=\"font-weight: bold\">)</span>\n",
                            "                <span style=\"font-weight: bold\">]</span>,\n",
                            "                <span style=\"color: #808000; text-decoration-color: #808000\">gen_ctx_paths</span>=<span style=\"font-weight: bold\">[</span>\n",
                            "                    <span style=\"color: #008000; text-decoration-color: #008000\">'main-text.8'</span>,\n",
                            "                    <span style=\"color: #008000; text-decoration-color: #008000\">'main-text.9'</span>,\n",
                            "                    <span style=\"color: #008000; text-decoration-color: #008000\">'main-text.10'</span>,\n",
                            "                    <span style=\"color: #008000; text-decoration-color: #008000\">'main-text.11'</span>,\n",
                            "                    <span style=\"color: #008000; text-decoration-color: #008000\">'main-text.12'</span>,\n",
                            "                    <span style=\"color: #008000; text-decoration-color: #008000\">'main-text.13'</span>,\n",
                            "                    <span style=\"color: #008000; text-decoration-color: #008000\">'main-text.14'</span>,\n",
                            "                    <span style=\"color: #008000; text-decoration-color: #008000\">'main-text.16'</span>,\n",
                            "                    <span style=\"color: #008000; text-decoration-color: #008000\">'main-text.17'</span>,\n",
                            "                    <span style=\"color: #008000; text-decoration-color: #008000\">'main-text.18'</span>,\n",
                            "                    <span style=\"color: #008000; text-decoration-color: #008000\">'main-text.19'</span>,\n",
                            "                    <span style=\"color: #008000; text-decoration-color: #008000\">'main-text.20'</span>,\n",
                            "                    <span style=\"color: #008000; text-decoration-color: #008000\">'main-text.21'</span>,\n",
                            "                    <span style=\"color: #008000; text-decoration-color: #008000\">'main-text.22'</span>\n",
                            "                <span style=\"font-weight: bold\">]</span>\n",
                            "            <span style=\"font-weight: bold\">)</span>,\n",
                            "            <span style=\"color: #808000; text-decoration-color: #808000\">prompt</span>=<span style=\"color: #800080; text-decoration-color: #800080; font-style: italic\">None</span>\n",
                            "        <span style=\"font-weight: bold\">)</span>\n",
                            "    <span style=\"font-weight: bold\">]</span>,\n",
                            "    <span style=\"color: #808000; text-decoration-color: #808000\">search_result_items</span>=<span style=\"font-weight: bold\">[</span>\n",
                            "        <span style=\"color: #800080; text-decoration-color: #800080; font-weight: bold\">SearchResultItem</span><span style=\"font-weight: bold\">(</span>\n",
                            "            <span style=\"color: #808000; text-decoration-color: #808000\">doc_hash</span>=<span style=\"color: #008000; text-decoration-color: #008000\">'5dfbd8c115a15fd3396b68409124cfee29fc8efac7b5c846634ff924e635e0dc'</span>,\n",
                            "            <span style=\"color: #808000; text-decoration-color: #808000\">chunk</span>=<span style=\"color: #008000; text-decoration-color: #008000\">'KEYWORDS\\nPDF document conversion, layout segmentation, object-detection, data set, Machine </span>\n",
                            "<span style=\"color: #008000; text-decoration-color: #008000\">Learning'</span>,\n",
                            "            <span style=\"color: #808000; text-decoration-color: #808000\">main_path</span>=<span style=\"color: #008000; text-decoration-color: #008000\">'main-text.17'</span>,\n",
                            "            <span style=\"color: #808000; text-decoration-color: #808000\">path_group</span>=<span style=\"font-weight: bold\">[</span><span style=\"color: #008000; text-decoration-color: #008000\">'main-text.16'</span>, <span style=\"color: #008000; text-decoration-color: #008000\">'main-text.17'</span><span style=\"font-weight: bold\">]</span>,\n",
                            "            <span style=\"color: #808000; text-decoration-color: #808000\">source_is_text</span>=<span style=\"color: #00ff00; text-decoration-color: #00ff00; font-style: italic\">True</span>\n",
                            "        <span style=\"font-weight: bold\">)</span>\n",
                            "    <span style=\"font-weight: bold\">]</span>\n",
                            "<span style=\"font-weight: bold\">)</span>\n",
                            "</pre>\n"
                        ],
                        "text/plain": [
                            "\u001b[1;35mRAGResult\u001b[0m\u001b[1m(\u001b[0m\n",
                            "    \u001b[33manswers\u001b[0m=\u001b[1m[\u001b[0m\n",
                            "        \u001b[1;35mRAGAnswerItem\u001b[0m\u001b[1m(\u001b[0m\n",
                            "            \u001b[33manswer\u001b[0m=\u001b[32m\"The\u001b[0m\u001b[32m term 'machine learning' was introduced by Arthur Samuel in 1959 \u001b[0m\u001b[32m[\u001b[0m\u001b[32mSamuel1959\u001b[0m\u001b[32m]\u001b[0m\u001b[32m.\"\u001b[0m,\n",
                            "            \u001b[33mgrounding\u001b[0m=\u001b[1;35mRAGGroundingInfo\u001b[0m\u001b[1m(\u001b[0m\n",
                            "                \u001b[33mretr_items\u001b[0m=\u001b[1m[\u001b[0m\n",
                            "                    \u001b[1;35mSearchResultItem\u001b[0m\u001b[1m(\u001b[0m\n",
                            "                        \u001b[33mdoc_hash\u001b[0m=\u001b[32m'5dfbd8c115a15fd3396b68409124cfee29fc8efac7b5c846634ff924e635e0dc'\u001b[0m,\n",
                            "                        \u001b[33mchunk\u001b[0m=\u001b[32m'KEYWORDS\\nPDF document conversion, layout segmentation, object-detection, data set, \u001b[0m\n",
                            "\u001b[32mMachine Learning'\u001b[0m,\n",
                            "                        \u001b[33mmain_path\u001b[0m=\u001b[32m'main-text.17'\u001b[0m,\n",
                            "                        \u001b[33mpath_group\u001b[0m=\u001b[1m[\u001b[0m\u001b[32m'main-text.16'\u001b[0m, \u001b[32m'main-text.17'\u001b[0m\u001b[1m]\u001b[0m,\n",
                            "                        \u001b[33msource_is_text\u001b[0m=\u001b[3;92mTrue\u001b[0m\n",
                            "                    \u001b[1m)\u001b[0m\n",
                            "                \u001b[1m]\u001b[0m,\n",
                            "                \u001b[33mgen_ctx_paths\u001b[0m=\u001b[1m[\u001b[0m\n",
                            "                    \u001b[32m'main-text.8'\u001b[0m,\n",
                            "                    \u001b[32m'main-text.9'\u001b[0m,\n",
                            "                    \u001b[32m'main-text.10'\u001b[0m,\n",
                            "                    \u001b[32m'main-text.11'\u001b[0m,\n",
                            "                    \u001b[32m'main-text.12'\u001b[0m,\n",
                            "                    \u001b[32m'main-text.13'\u001b[0m,\n",
                            "                    \u001b[32m'main-text.14'\u001b[0m,\n",
                            "                    \u001b[32m'main-text.16'\u001b[0m,\n",
                            "                    \u001b[32m'main-text.17'\u001b[0m,\n",
                            "                    \u001b[32m'main-text.18'\u001b[0m,\n",
                            "                    \u001b[32m'main-text.19'\u001b[0m,\n",
                            "                    \u001b[32m'main-text.20'\u001b[0m,\n",
                            "                    \u001b[32m'main-text.21'\u001b[0m,\n",
                            "                    \u001b[32m'main-text.22'\u001b[0m\n",
                            "                \u001b[1m]\u001b[0m\n",
                            "            \u001b[1m)\u001b[0m,\n",
                            "            \u001b[33mprompt\u001b[0m=\u001b[3;35mNone\u001b[0m\n",
                            "        \u001b[1m)\u001b[0m\n",
                            "    \u001b[1m]\u001b[0m,\n",
                            "    \u001b[33msearch_result_items\u001b[0m=\u001b[1m[\u001b[0m\n",
                            "        \u001b[1;35mSearchResultItem\u001b[0m\u001b[1m(\u001b[0m\n",
                            "            \u001b[33mdoc_hash\u001b[0m=\u001b[32m'5dfbd8c115a15fd3396b68409124cfee29fc8efac7b5c846634ff924e635e0dc'\u001b[0m,\n",
                            "            \u001b[33mchunk\u001b[0m=\u001b[32m'KEYWORDS\\nPDF document conversion, layout segmentation, object-detection, data set, Machine \u001b[0m\n",
                            "\u001b[32mLearning'\u001b[0m,\n",
                            "            \u001b[33mmain_path\u001b[0m=\u001b[32m'main-text.17'\u001b[0m,\n",
                            "            \u001b[33mpath_group\u001b[0m=\u001b[1m[\u001b[0m\u001b[32m'main-text.16'\u001b[0m, \u001b[32m'main-text.17'\u001b[0m\u001b[1m]\u001b[0m,\n",
                            "            \u001b[33msource_is_text\u001b[0m=\u001b[3;92mTrue\u001b[0m\n",
                            "        \u001b[1m)\u001b[0m\n",
                            "    \u001b[1m]\u001b[0m\n",
                            "\u001b[1m)\u001b[0m\n"
                        ]
                    },
                    "metadata": {},
                    "output_type": "display_data"
                },
                {
                    "name": "stdout",
                    "output_type": "stream",
                    "text": [
                        "overall=2.12  pipeline=1.994  encode=0.037  search=0.037  rerank=0.000  generate=1.856\n"
                    ]
                }
            ],
            "source": [
                "question = \"Who came up with the term 'machine learning'?\"\n",
                "\n",
                "# submit natural-language query on collection\n",
                "question_query = RAGQuery(\n",
                "    question=question,\n",
                "    project=PROJ_KEY,\n",
                "    data_source=data_source,\n",
                "\n",
                "    ## optional retrieval params\n",
                "    retr_k=RETR_K,\n",
                "    # text_weight=TEXT_WEIGHT,\n",
                "    # rerank=RERANK,\n",
                "\n",
                "    ## optional generation params\n",
                "    # model_id=\"ibm-mistralai/mixtral-8x7b-instruct-v01-q\",\n",
                "    # gen_params={\"random_seed\": 42, \"max_new_tokens\": 1024},\n",
                "    # prompt_template=\"Answer the query based on the context.\\n\\nContext: {{ context }}\\n\\nQuery: {{ query }}\",\n",
                "\n",
                "    # gen_ctx_extr_method=\"window\",\n",
                "    # gen_ctx_window_size=5000,\n",
                "    # gen_ctx_window_lead_weight=0.5\n",
                "    # return_prompt=True,\n",
                "    # gen_timeout=10.0,\n",
                ")\n",
                "api_output = api.queries.run(question_query)\n",
                "rag_result = RAGResult.from_api_output(api_output, raise_on_error=RAISE)\n",
                "\n",
                "timing = f\"overall={api_output.timings.overall:.2f}  \"\n",
                "\n",
                "for k, v in api_output.timings.tasks[\"QA\"].details.items():\n",
                "    timing += f\"{k}={v:.3f}  \"\n",
                "\n",
                "rich.print(rag_result)\n",
                "\n",
                "print(f\"{timing.strip()}\")"
            ]
        },
        {
            "cell_type": "markdown",
            "metadata": {},
            "source": [
                "As seen by the returned `doc_hash`, this answer could came from a different document than the previous one."
            ]
        },
        {
            "cell_type": "code",
            "execution_count": 15,
            "metadata": {},
            "outputs": [
                {
                    "data": {
                        "text/markdown": [
                            "The provenance of the answer can be inspected on the [source document](https://cps.foc-deepsearch.zurich.ibm.com/projects/6db72b8a4b537e1e6fa42f4403eb602a8ef0318e/library/private/2a052da60ce6f7d69837c6c2a492124b17f0a1d6?search=JTdCJTIycHJpdmF0ZUNvbGxlY3Rpb24lMjIlM0ElMjIyYTA1MmRhNjBjZTZmN2Q2OTgzN2M2YzJhNDkyMTI0YjE3ZjBhMWQ2JTIyJTJDJTIydHlwZSUyMiUzQSUyMkRvY3VtZW50JTIyJTJDJTIyZXhwcmVzc2lvbiUyMiUzQSUyMmZpbGUtaW5mby5kb2N1bWVudC1oYXNoJTNBJTIwJTVDJTIyNWRmYmQ4YzExNWExNWZkMzM5NmI2ODQwOTEyNGNmZWUyOWZjOGVmYWM3YjVjODQ2NjM0ZmY5MjRlNjM1ZTBkYyU1QyUyMiUyMiUyQyUyMmZpbHRlcnMlMjIlM0ElNUIlNUQlMkMlMjJzZWxlY3QlMjIlM0ElNUIlMjJfbmFtZSUyMiUyQyUyMmRlc2NyaXB0aW9uLmNvbGxlY3Rpb24lMjIlMkMlMjJwcm92JTIyJTJDJTIyZGVzY3JpcHRpb24udGl0bGUlMjIlMkMlMjJkZXNjcmlwdGlvbi5wdWJsaWNhdGlvbl9kYXRlJTIyJTJDJTIyZGVzY3JpcHRpb24udXJsX3JlZnMlMjIlNUQlMkMlMjJpdGVtSW5kZXglMjIlM0EwJTJDJTIycGFnZVNpemUlMjIlM0ExMCUyQyUyMnNlYXJjaEFmdGVySGlzdG9yeSUyMiUzQSU1QiU1RCUyQyUyMnZpZXdUeXBlJTIyJTNBJTIyc25pcHBldHMlMjIlMkMlMjJyZWNvcmRTZWxlY3Rpb24lMjIlM0ElN0IlMjJyZWNvcmQlMjIlM0ElN0IlMjJpZCUyMiUzQSUyMjVkZmJkOGMxMTVhMTVmZDMzOTZiNjg0MDkxMjRjZmVlMjlmYzhlZmFjN2I1Yzg0NjYzNGZmOTI0ZTYzNWUwZGMlMjIlN0QlMkMlMjJpdGVtSW5kZXglMjIlM0ExNyU3RCU3RA%3D%3D)."
                        ],
                        "text/plain": [
                            "<IPython.core.display.Markdown object>"
                        ]
                    },
                    "metadata": {},
                    "output_type": "display_data"
                }
            ],
            "source": [
                "render_provenance_url(api=api, coords=coll_coords, retr_item=rag_result.answers[0].grounding.retr_items[0])"
            ]
        },
        {
            "cell_type": "markdown",
            "metadata": {},
            "source": [
                "## Semantic retrieval\n",
                "\n",
                "Besides RAG, which includes natural language generation, a user may only be interested in\n",
                "the semantic retrieval part.\n",
                "\n",
                "This can be obtained very similarly to RAG, as shown below:"
            ]
        },
        {
            "cell_type": "code",
            "execution_count": 16,
            "metadata": {},
            "outputs": [
                {
                    "data": {
                        "text/html": [
                            "<pre style=\"white-space:pre;overflow-x:auto;line-height:normal;font-family:Menlo,'DejaVu Sans Mono',consolas,'Courier New',monospace\"><span style=\"color: #800080; text-decoration-color: #800080; font-weight: bold\">SearchResult</span><span style=\"font-weight: bold\">(</span>\n",
                            "    <span style=\"color: #808000; text-decoration-color: #808000\">search_result_items</span>=<span style=\"font-weight: bold\">[</span>\n",
                            "        <span style=\"color: #800080; text-decoration-color: #800080; font-weight: bold\">SearchResultItem</span><span style=\"font-weight: bold\">(</span>\n",
                            "            <span style=\"color: #808000; text-decoration-color: #808000\">doc_hash</span>=<span style=\"color: #008000; text-decoration-color: #008000\">'5dfbd8c115a15fd3396b68409124cfee29fc8efac7b5c846634ff924e635e0dc'</span>,\n",
                            "            <span style=\"color: #808000; text-decoration-color: #808000\">chunk</span>=<span style=\"color: #008000; text-decoration-color: #008000\">'DocLayNet: A Large Human-Annotated Dataset for Document-Layout Analysis\\nMichele Dolfi IBM </span>\n",
                            "<span style=\"color: #008000; text-decoration-color: #008000\">Research Rueschlikon, Switzerland dol@zurich.ibm.com'</span>,\n",
                            "            <span style=\"color: #808000; text-decoration-color: #808000\">main_path</span>=<span style=\"color: #008000; text-decoration-color: #008000\">'main-text.4'</span>,\n",
                            "            <span style=\"color: #808000; text-decoration-color: #808000\">path_group</span>=<span style=\"font-weight: bold\">[</span><span style=\"color: #008000; text-decoration-color: #008000\">'main-text.1'</span>, <span style=\"color: #008000; text-decoration-color: #008000\">'main-text.4'</span><span style=\"font-weight: bold\">]</span>,\n",
                            "            <span style=\"color: #808000; text-decoration-color: #808000\">source_is_text</span>=<span style=\"color: #00ff00; text-decoration-color: #00ff00; font-style: italic\">True</span>\n",
                            "        <span style=\"font-weight: bold\">)</span>\n",
                            "    <span style=\"font-weight: bold\">]</span>\n",
                            "<span style=\"font-weight: bold\">)</span>\n",
                            "</pre>\n"
                        ],
                        "text/plain": [
                            "\u001b[1;35mSearchResult\u001b[0m\u001b[1m(\u001b[0m\n",
                            "    \u001b[33msearch_result_items\u001b[0m=\u001b[1m[\u001b[0m\n",
                            "        \u001b[1;35mSearchResultItem\u001b[0m\u001b[1m(\u001b[0m\n",
                            "            \u001b[33mdoc_hash\u001b[0m=\u001b[32m'5dfbd8c115a15fd3396b68409124cfee29fc8efac7b5c846634ff924e635e0dc'\u001b[0m,\n",
                            "            \u001b[33mchunk\u001b[0m=\u001b[32m'DocLayNet: A Large Human-Annotated Dataset for Document-Layout Analysis\\nMichele Dolfi IBM \u001b[0m\n",
                            "\u001b[32mResearch Rueschlikon, Switzerland dol@zurich.ibm.com'\u001b[0m,\n",
                            "            \u001b[33mmain_path\u001b[0m=\u001b[32m'main-text.4'\u001b[0m,\n",
                            "            \u001b[33mpath_group\u001b[0m=\u001b[1m[\u001b[0m\u001b[32m'main-text.1'\u001b[0m, \u001b[32m'main-text.4'\u001b[0m\u001b[1m]\u001b[0m,\n",
                            "            \u001b[33msource_is_text\u001b[0m=\u001b[3;92mTrue\u001b[0m\n",
                            "        \u001b[1m)\u001b[0m\n",
                            "    \u001b[1m]\u001b[0m\n",
                            "\u001b[1m)\u001b[0m\n"
                        ]
                    },
                    "metadata": {},
                    "output_type": "display_data"
                },
                {
                    "name": "stdout",
                    "output_type": "stream",
                    "text": [
                        "overall=0.61  pipeline=0.078  encode=0.038  search=0.038  rerank=0.000\n"
                    ]
                }
            ],
            "source": [
                "question = \"Where is the IBM lab in Zurich?\"\n",
                "\n",
                "# submit natural-language query on collection\n",
                "question_query = SemanticQuery(\n",
                "    question=question,\n",
                "    project=PROJ_KEY,\n",
                "    data_source=data_source,\n",
                "\n",
                "    ## optional params\n",
                "    retr_k=RETR_K,\n",
                "    # text_weight=TEXT_WEIGHT,\n",
                "    # rerank=RERANK,\n",
                ")\n",
                "api_output = api.queries.run(question_query)\n",
                "search_result = SearchResult.from_api_output(api_output, raise_on_error=RAISE)\n",
                "\n",
                "timing = f\"overall={api_output.timings.overall:.2f}  \"\n",
                "\n",
                "for k, v in api_output.timings.tasks[\"QA\"].details.items():\n",
                "    timing += f\"{k}={v:.3f}  \"\n",
                "\n",
                "rich.print(search_result)\n",
                "\n",
                "print(f\"{timing.strip()}\")"
            ]
        }
    ],
    "metadata": {
        "kernelspec": {
            "display_name": "Python 3 (ipykernel)",
            "language": "python",
            "name": "python3"
        },
        "language_info": {
            "codemirror_mode": {
                "name": "ipython",
                "version": 3
            },
            "file_extension": ".py",
            "mimetype": "text/x-python",
            "name": "python",
            "nbconvert_exporter": "python",
            "pygments_lexer": "ipython3",
            "version": "3.9.19"
        }
    },
    "nbformat": 4,
    "nbformat_minor": 5
}
